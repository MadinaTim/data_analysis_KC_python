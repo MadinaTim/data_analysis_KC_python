{
 "cells": [
  {
   "cell_type": "code",
   "execution_count": 4,
   "id": "76a148cb",
   "metadata": {},
   "outputs": [],
   "source": [
    "import pandas as pd\n",
    "import seaborn as sns\n",
    "import numpy as np\n",
    "import matplotlib.pyplot as plt\n",
    "%matplotlib inline\n",
    "\n",
    "sns.set(\n",
    "    font_scale = 2,\n",
    "    style='whitegrid',\n",
    "    rc={'figure.figsize' : (20,7)}\n",
    ")"
   ]
  },
  {
   "cell_type": "markdown",
   "id": "ee7c4e9b",
   "metadata": {},
   "source": [
    "# Анализ рекламных объявлений"
   ]
  },
  {
   "cell_type": "code",
   "execution_count": 6,
   "id": "1141394a",
   "metadata": {},
   "outputs": [],
   "source": [
    "ads_data = pd.read_csv(ads_data, parse_dates=['date', 'time'])\n",
    "ads_clients_data = pd.read_csv(ads_clients_data, parse_dates=['date', 'create_date'])"
   ]
  },
  {
   "cell_type": "markdown",
   "id": "aeaa07d6",
   "metadata": {},
   "source": [
    "### Описание данных\n",
    "**`ads_data.csv`** – данные взаимодействий с рекламными объявлениями\n",
    "\n",
    "**date** – дата <br>\n",
    "**time** – время <br>\n",
    "**event** – действие (просмотр/клик) <br>\n",
    "**platform** – платформа <br>\n",
    "**ad_id** – id объявления <br>\n",
    "**client_union_id** – id рекламного кабинета <br>\n",
    "**campaign_union_id** – id рекламной кампании <br>\n",
    "**ad_cost_type** – тип оплаты <br>\n",
    "**ad_cost** – цена <br>\n",
    "**has_video** – есть ли видео <br>\n",
    "**target_audience_count** – размер аудитории<br>\n",
    "\n",
    "**`ads_clients_data.csv`** – характеристики рекламных клиентов<br>\n",
    "**date** – дата<br>\n",
    "**client_union_id** – id рекламного кабинета<br>\n",
    "**community_id** – id сообщества<br>\n",
    "**create_date** – дата создания рекламного клиента"
   ]
  },
  {
   "cell_type": "code",
   "execution_count": 7,
   "id": "c5b923a1",
   "metadata": {},
   "outputs": [
    {
     "data": {
      "text/html": [
       "<div>\n",
       "<style scoped>\n",
       "    .dataframe tbody tr th:only-of-type {\n",
       "        vertical-align: middle;\n",
       "    }\n",
       "\n",
       "    .dataframe tbody tr th {\n",
       "        vertical-align: top;\n",
       "    }\n",
       "\n",
       "    .dataframe thead th {\n",
       "        text-align: right;\n",
       "    }\n",
       "</style>\n",
       "<table border=\"1\" class=\"dataframe\">\n",
       "  <thead>\n",
       "    <tr style=\"text-align: right;\">\n",
       "      <th></th>\n",
       "      <th>date</th>\n",
       "      <th>time</th>\n",
       "      <th>event</th>\n",
       "      <th>platform</th>\n",
       "      <th>ad_id</th>\n",
       "      <th>client_union_id</th>\n",
       "      <th>campaign_union_id</th>\n",
       "      <th>ad_cost_type</th>\n",
       "      <th>ad_cost</th>\n",
       "      <th>has_video</th>\n",
       "      <th>target_audience_count</th>\n",
       "    </tr>\n",
       "  </thead>\n",
       "  <tbody>\n",
       "    <tr>\n",
       "      <th>0</th>\n",
       "      <td>2019-04-01</td>\n",
       "      <td>2019-04-01 00:00:48</td>\n",
       "      <td>view</td>\n",
       "      <td>android</td>\n",
       "      <td>45061</td>\n",
       "      <td>34734</td>\n",
       "      <td>45061</td>\n",
       "      <td>CPM</td>\n",
       "      <td>200.6</td>\n",
       "      <td>0</td>\n",
       "      <td>1955269</td>\n",
       "    </tr>\n",
       "    <tr>\n",
       "      <th>1</th>\n",
       "      <td>2019-04-01</td>\n",
       "      <td>2019-04-01 00:00:48</td>\n",
       "      <td>view</td>\n",
       "      <td>web</td>\n",
       "      <td>121288</td>\n",
       "      <td>121288</td>\n",
       "      <td>121288</td>\n",
       "      <td>CPM</td>\n",
       "      <td>187.4</td>\n",
       "      <td>0</td>\n",
       "      <td>232011</td>\n",
       "    </tr>\n",
       "    <tr>\n",
       "      <th>2</th>\n",
       "      <td>2019-04-01</td>\n",
       "      <td>2019-04-01 00:01:03</td>\n",
       "      <td>view</td>\n",
       "      <td>android</td>\n",
       "      <td>102737</td>\n",
       "      <td>102535</td>\n",
       "      <td>102564</td>\n",
       "      <td>CPC</td>\n",
       "      <td>60.7</td>\n",
       "      <td>0</td>\n",
       "      <td>4410</td>\n",
       "    </tr>\n",
       "    <tr>\n",
       "      <th>3</th>\n",
       "      <td>2019-04-01</td>\n",
       "      <td>2019-04-01 00:01:03</td>\n",
       "      <td>view</td>\n",
       "      <td>android</td>\n",
       "      <td>107564</td>\n",
       "      <td>106914</td>\n",
       "      <td>107564</td>\n",
       "      <td>CPM</td>\n",
       "      <td>217.3</td>\n",
       "      <td>0</td>\n",
       "      <td>62711</td>\n",
       "    </tr>\n",
       "    <tr>\n",
       "      <th>4</th>\n",
       "      <td>2019-04-01</td>\n",
       "      <td>2019-04-01 00:01:09</td>\n",
       "      <td>view</td>\n",
       "      <td>android</td>\n",
       "      <td>4922</td>\n",
       "      <td>37</td>\n",
       "      <td>4400</td>\n",
       "      <td>CPC</td>\n",
       "      <td>60.1</td>\n",
       "      <td>0</td>\n",
       "      <td>1183501</td>\n",
       "    </tr>\n",
       "  </tbody>\n",
       "</table>\n",
       "</div>"
      ],
      "text/plain": [
       "        date                time event platform   ad_id  client_union_id  \\\n",
       "0 2019-04-01 2019-04-01 00:00:48  view  android   45061            34734   \n",
       "1 2019-04-01 2019-04-01 00:00:48  view      web  121288           121288   \n",
       "2 2019-04-01 2019-04-01 00:01:03  view  android  102737           102535   \n",
       "3 2019-04-01 2019-04-01 00:01:03  view  android  107564           106914   \n",
       "4 2019-04-01 2019-04-01 00:01:09  view  android    4922               37   \n",
       "\n",
       "   campaign_union_id ad_cost_type  ad_cost  has_video  target_audience_count  \n",
       "0              45061          CPM    200.6          0                1955269  \n",
       "1             121288          CPM    187.4          0                 232011  \n",
       "2             102564          CPC     60.7          0                   4410  \n",
       "3             107564          CPM    217.3          0                  62711  \n",
       "4               4400          CPC     60.1          0                1183501  "
      ]
     },
     "execution_count": 7,
     "metadata": {},
     "output_type": "execute_result"
    }
   ],
   "source": [
    "ads_data.head()"
   ]
  },
  {
   "cell_type": "code",
   "execution_count": 20,
   "id": "f7b0ab7a",
   "metadata": {},
   "outputs": [
    {
     "data": {
      "text/html": [
       "<div>\n",
       "<style scoped>\n",
       "    .dataframe tbody tr th:only-of-type {\n",
       "        vertical-align: middle;\n",
       "    }\n",
       "\n",
       "    .dataframe tbody tr th {\n",
       "        vertical-align: top;\n",
       "    }\n",
       "\n",
       "    .dataframe thead th {\n",
       "        text-align: right;\n",
       "    }\n",
       "</style>\n",
       "<table border=\"1\" class=\"dataframe\">\n",
       "  <thead>\n",
       "    <tr style=\"text-align: right;\">\n",
       "      <th></th>\n",
       "      <th>date</th>\n",
       "      <th>client_union_id</th>\n",
       "      <th>community_id</th>\n",
       "      <th>create_date</th>\n",
       "    </tr>\n",
       "  </thead>\n",
       "  <tbody>\n",
       "    <tr>\n",
       "      <th>0</th>\n",
       "      <td>2020-05-07</td>\n",
       "      <td>1</td>\n",
       "      <td>-130371893</td>\n",
       "      <td>2018-12-24</td>\n",
       "    </tr>\n",
       "    <tr>\n",
       "      <th>1</th>\n",
       "      <td>2020-05-07</td>\n",
       "      <td>2</td>\n",
       "      <td>-130304626</td>\n",
       "      <td>2019-02-10</td>\n",
       "    </tr>\n",
       "    <tr>\n",
       "      <th>2</th>\n",
       "      <td>2020-05-07</td>\n",
       "      <td>3</td>\n",
       "      <td>-130462599</td>\n",
       "      <td>2019-01-25</td>\n",
       "    </tr>\n",
       "    <tr>\n",
       "      <th>3</th>\n",
       "      <td>2020-05-07</td>\n",
       "      <td>4</td>\n",
       "      <td>-130574300</td>\n",
       "      <td>2018-12-09</td>\n",
       "    </tr>\n",
       "    <tr>\n",
       "      <th>4</th>\n",
       "      <td>2020-05-07</td>\n",
       "      <td>5</td>\n",
       "      <td>-130292358</td>\n",
       "      <td>2019-01-08</td>\n",
       "    </tr>\n",
       "  </tbody>\n",
       "</table>\n",
       "</div>"
      ],
      "text/plain": [
       "        date  client_union_id  community_id create_date\n",
       "0 2020-05-07                1    -130371893  2018-12-24\n",
       "1 2020-05-07                2    -130304626  2019-02-10\n",
       "2 2020-05-07                3    -130462599  2019-01-25\n",
       "3 2020-05-07                4    -130574300  2018-12-09\n",
       "4 2020-05-07                5    -130292358  2019-01-08"
      ]
     },
     "execution_count": 20,
     "metadata": {},
     "output_type": "execute_result"
    }
   ],
   "source": [
    "ads_clients_data.head()"
   ]
  },
  {
   "cell_type": "markdown",
   "id": "e5f6fe30",
   "metadata": {},
   "source": [
    "**1. Для начала посчитаем среднее количество разных рекламных событий (показы и клики) по объявлениям**"
   ]
  },
  {
   "cell_type": "code",
   "execution_count": 29,
   "id": "d2aea5bd",
   "metadata": {},
   "outputs": [
    {
     "data": {
      "text/plain": [
       "event\n",
       "click    113.0\n",
       "view     923.0\n",
       "dtype: float64"
      ]
     },
     "execution_count": 29,
     "metadata": {},
     "output_type": "execute_result"
    }
   ],
   "source": [
    "#некоторые показываемые объявления не кликались, и при группировке в таких случаях не будет строк с кликами, поэтому заполняем значения \n",
    "ads_data.groupby(['ad_id', 'event'], as_index=False)\\\n",
    "    .agg({'platform':'count'})\\\n",
    "    .pivot(index='ad_id', columns='event', values='platform')\\\n",
    "    .fillna(0)\\\n",
    "    .mean()\\\n",
    "    .round()"
   ]
  },
  {
   "cell_type": "markdown",
   "id": "834f58fe",
   "metadata": {},
   "source": [
    "**Вывод** <br>\n",
    "Среднее количество кликов на объявление 113 <br>\n",
    "Среднее количество показов на объявление 923\n"
   ]
  },
  {
   "cell_type": "markdown",
   "id": "e53c1358",
   "metadata": {},
   "source": [
    "**2. Посмотрим на распределение показов объявлений**"
   ]
  },
  {
   "cell_type": "code",
   "execution_count": 33,
   "id": "7957a34e",
   "metadata": {},
   "outputs": [],
   "source": [
    "views = ads_data.groupby(['event', 'ad_id'], as_index=False)\\\n",
    "    .agg({'platform':'count'})\\\n",
    "    .query(\"event == 'view'\")\n",
    "views['log_v'] = np.log(views.platform)"
   ]
  },
  {
   "cell_type": "code",
   "execution_count": 57,
   "id": "e7b6ccb4",
   "metadata": {},
   "outputs": [
    {
     "data": {
      "text/plain": [
       "<AxesSubplot:xlabel='log_v', ylabel='Density'>"
      ]
     },
     "execution_count": 57,
     "metadata": {},
     "output_type": "execute_result"
    },
    {
     "data": {
      "image/png": "[encoded data removed]",
      "text/plain": [
       "<Figure size 1440x504 with 1 Axes>"
      ]
     },
     "metadata": {},
     "output_type": "display_data"
    }
   ],
   "source": [
    "sns.histplot(views.log_v, stat=\"density\", kde=True)"
   ]
  },
  {
   "cell_type": "markdown",
   "id": "fb140d52",
   "metadata": {},
   "source": [
    "**3. Найдем среднее количество показов на 1 объявление по дням**, не учитывая объявления, у которых не было показов"
   ]
  },
  {
   "cell_type": "code",
   "execution_count": 66,
   "id": "2bb2e1f3",
   "metadata": {},
   "outputs": [],
   "source": [
    "views1 = ads_data.query(\"event == 'view'\")\\\n",
    "    .pivot_table(index='ad_id',\n",
    "                columns='date',\n",
    "                values='time',\n",
    "                aggfunc='count')"
   ]
  },
  {
   "cell_type": "code",
   "execution_count": 69,
   "id": "5598c0f7",
   "metadata": {},
   "outputs": [],
   "source": [
    "mean_views = views1.mean()"
   ]
  },
  {
   "cell_type": "code",
   "execution_count": 80,
   "id": "b8fbce26",
   "metadata": {},
   "outputs": [],
   "source": [
    "#посчитаеv скользящее среднее по полученному результату с окном в 2 элемента\n",
    "roll_mean = mean_views.rolling(2).mean().round(2)"
   ]
  },
  {
   "cell_type": "code",
   "execution_count": 81,
   "id": "70b9954f",
   "metadata": {
    "scrolled": true
   },
   "outputs": [
    {
     "data": {
      "text/plain": [
       "date\n",
       "2019-04-01       NaN\n",
       "2019-04-02    146.13\n",
       "2019-04-03    150.87\n",
       "2019-04-04    419.93\n",
       "2019-04-05    797.51\n",
       "2019-04-06    598.12\n",
       "dtype: float64"
      ]
     },
     "execution_count": 81,
     "metadata": {},
     "output_type": "execute_result"
    }
   ],
   "source": [
    "roll_mean"
   ]
  },
  {
   "cell_type": "markdown",
   "id": "fcd5187c",
   "metadata": {},
   "source": [
    "**4. Поиск аномального дня по графику**"
   ]
  },
  {
   "cell_type": "markdown",
   "id": "60c2aabb",
   "metadata": {},
   "source": [
    "Скользящее среднее часто используется для поиска аномалий в данных. Попробуем нанести на один график значения просто среднего количества показов по дням и скользящего среднего на основе этих данных "
   ]
  },
  {
   "cell_type": "code",
   "execution_count": 84,
   "id": "86f63c9c",
   "metadata": {},
   "outputs": [
    {
     "data": {
      "text/plain": [
       "<AxesSubplot:xlabel='date'>"
      ]
     },
     "execution_count": 84,
     "metadata": {},
     "output_type": "execute_result"
    },
    {
     "data": {
      "image/png": "[encoded data removed]",
      "text/plain": [
       "<Figure size 1440x504 with 1 Axes>"
      ]
     },
     "metadata": {},
     "output_type": "display_data"
    }
   ],
   "source": [
    "sns.lineplot(data=mean_views, label='mean')\n",
    "sns.lineplot(data=roll_mean, label='rolling')"
   ]
  },
  {
   "cell_type": "code",
   "execution_count": 89,
   "id": "b22a8451",
   "metadata": {},
   "outputs": [
    {
     "data": {
      "text/plain": [
       "Timestamp('2019-04-06 00:00:00')"
      ]
     },
     "execution_count": 89,
     "metadata": {},
     "output_type": "execute_result"
    }
   ],
   "source": [
    "abs(mean_views - roll_mean).idxmax()"
   ]
  },
  {
   "cell_type": "markdown",
   "id": "a4586758",
   "metadata": {},
   "source": [
    "**Вывод** <br>\n",
    "Наибольшая разница по модулю между арифметическим средним и скользящим средним"
   ]
  },
  {
   "cell_type": "markdown",
   "id": "d2337786",
   "metadata": {},
   "source": [
    "**5. Найдем среднее количество дней от даты создания рекламного клиента (create_date) и первым запуском рекламного объявления этим клиентом (date)**"
   ]
  },
  {
   "cell_type": "code",
   "execution_count": 102,
   "id": "7ece25b1",
   "metadata": {},
   "outputs": [],
   "source": [
    "#Объединяем данные рекламы с данными о рекламных клиентах\n",
    "ads_full = ads_data.merge(ads_clients_data.drop(columns=['date','community_id']))"
   ]
  },
  {
   "cell_type": "code",
   "execution_count": 103,
   "id": "4f659c3b",
   "metadata": {},
   "outputs": [
    {
     "data": {
      "text/html": [
       "<div>\n",
       "<style scoped>\n",
       "    .dataframe tbody tr th:only-of-type {\n",
       "        vertical-align: middle;\n",
       "    }\n",
       "\n",
       "    .dataframe tbody tr th {\n",
       "        vertical-align: top;\n",
       "    }\n",
       "\n",
       "    .dataframe thead th {\n",
       "        text-align: right;\n",
       "    }\n",
       "</style>\n",
       "<table border=\"1\" class=\"dataframe\">\n",
       "  <thead>\n",
       "    <tr style=\"text-align: right;\">\n",
       "      <th></th>\n",
       "      <th>date</th>\n",
       "      <th>time</th>\n",
       "      <th>event</th>\n",
       "      <th>platform</th>\n",
       "      <th>ad_id</th>\n",
       "      <th>client_union_id</th>\n",
       "      <th>campaign_union_id</th>\n",
       "      <th>ad_cost_type</th>\n",
       "      <th>ad_cost</th>\n",
       "      <th>has_video</th>\n",
       "      <th>target_audience_count</th>\n",
       "      <th>create_date</th>\n",
       "    </tr>\n",
       "  </thead>\n",
       "  <tbody>\n",
       "    <tr>\n",
       "      <th>0</th>\n",
       "      <td>2019-04-01</td>\n",
       "      <td>2019-04-01 00:00:48</td>\n",
       "      <td>view</td>\n",
       "      <td>android</td>\n",
       "      <td>45061</td>\n",
       "      <td>34734</td>\n",
       "      <td>45061</td>\n",
       "      <td>CPM</td>\n",
       "      <td>200.6</td>\n",
       "      <td>0</td>\n",
       "      <td>1955269</td>\n",
       "      <td>2018-12-04</td>\n",
       "    </tr>\n",
       "    <tr>\n",
       "      <th>1</th>\n",
       "      <td>2019-04-01</td>\n",
       "      <td>2019-04-01 00:03:28</td>\n",
       "      <td>view</td>\n",
       "      <td>android</td>\n",
       "      <td>45061</td>\n",
       "      <td>34734</td>\n",
       "      <td>45061</td>\n",
       "      <td>CPM</td>\n",
       "      <td>200.6</td>\n",
       "      <td>0</td>\n",
       "      <td>1955269</td>\n",
       "      <td>2018-12-04</td>\n",
       "    </tr>\n",
       "    <tr>\n",
       "      <th>2</th>\n",
       "      <td>2019-04-01</td>\n",
       "      <td>2019-04-01 00:04:58</td>\n",
       "      <td>view</td>\n",
       "      <td>ios</td>\n",
       "      <td>45061</td>\n",
       "      <td>34734</td>\n",
       "      <td>45061</td>\n",
       "      <td>CPM</td>\n",
       "      <td>200.6</td>\n",
       "      <td>0</td>\n",
       "      <td>1955269</td>\n",
       "      <td>2018-12-04</td>\n",
       "    </tr>\n",
       "    <tr>\n",
       "      <th>3</th>\n",
       "      <td>2019-04-01</td>\n",
       "      <td>2019-04-01 00:10:23</td>\n",
       "      <td>view</td>\n",
       "      <td>ios</td>\n",
       "      <td>45061</td>\n",
       "      <td>34734</td>\n",
       "      <td>45061</td>\n",
       "      <td>CPM</td>\n",
       "      <td>200.6</td>\n",
       "      <td>0</td>\n",
       "      <td>1955269</td>\n",
       "      <td>2018-12-04</td>\n",
       "    </tr>\n",
       "    <tr>\n",
       "      <th>4</th>\n",
       "      <td>2019-04-01</td>\n",
       "      <td>2019-04-01 00:15:42</td>\n",
       "      <td>view</td>\n",
       "      <td>android</td>\n",
       "      <td>45061</td>\n",
       "      <td>34734</td>\n",
       "      <td>45061</td>\n",
       "      <td>CPM</td>\n",
       "      <td>200.6</td>\n",
       "      <td>0</td>\n",
       "      <td>1955269</td>\n",
       "      <td>2018-12-04</td>\n",
       "    </tr>\n",
       "  </tbody>\n",
       "</table>\n",
       "</div>"
      ],
      "text/plain": [
       "        date                time event platform  ad_id  client_union_id  \\\n",
       "0 2019-04-01 2019-04-01 00:00:48  view  android  45061            34734   \n",
       "1 2019-04-01 2019-04-01 00:03:28  view  android  45061            34734   \n",
       "2 2019-04-01 2019-04-01 00:04:58  view      ios  45061            34734   \n",
       "3 2019-04-01 2019-04-01 00:10:23  view      ios  45061            34734   \n",
       "4 2019-04-01 2019-04-01 00:15:42  view  android  45061            34734   \n",
       "\n",
       "   campaign_union_id ad_cost_type  ad_cost  has_video  target_audience_count  \\\n",
       "0              45061          CPM    200.6          0                1955269   \n",
       "1              45061          CPM    200.6          0                1955269   \n",
       "2              45061          CPM    200.6          0                1955269   \n",
       "3              45061          CPM    200.6          0                1955269   \n",
       "4              45061          CPM    200.6          0                1955269   \n",
       "\n",
       "  create_date  \n",
       "0  2018-12-04  \n",
       "1  2018-12-04  \n",
       "2  2018-12-04  \n",
       "3  2018-12-04  \n",
       "4  2018-12-04  "
      ]
     },
     "execution_count": 103,
     "metadata": {},
     "output_type": "execute_result"
    }
   ],
   "source": [
    "ads_full.head()"
   ]
  },
  {
   "cell_type": "code",
   "execution_count": 109,
   "id": "478cc8ff",
   "metadata": {},
   "outputs": [
    {
     "data": {
      "text/plain": [
       "client_union_id\n",
       "1     98 days\n",
       "9    114 days\n",
       "13    66 days\n",
       "16   105 days\n",
       "20    32 days\n",
       "dtype: timedelta64[ns]"
      ]
     },
     "execution_count": 109,
     "metadata": {},
     "output_type": "execute_result"
    }
   ],
   "source": [
    "ads_dif = ads_full.groupby('client_union_id')\\\n",
    "    .apply(lambda group:(group.date - group.create_date).min())\n",
    "ads_dif.head()"
   ]
  },
  {
   "cell_type": "code",
   "execution_count": 110,
   "id": "fd4782c7",
   "metadata": {},
   "outputs": [
    {
     "data": {
      "text/plain": [
       "Timedelta('124 days 09:04:43.532219570')"
      ]
     },
     "execution_count": 110,
     "metadata": {},
     "output_type": "execute_result"
    }
   ],
   "source": [
    "ads_dif.mean()"
   ]
  },
  {
   "cell_type": "markdown",
   "id": "a45f7d5a",
   "metadata": {},
   "source": [
    "**Вывод** <br>\n",
    "Cреднее число дней между датой создания объявления и первым запуском == 124 дня"
   ]
  },
  {
   "cell_type": "markdown",
   "id": "559962f9",
   "metadata": {},
   "source": [
    "**6. Вычислим конверсию из создания рекламного кабинета в запуск первой рекламы в течение не более 365 дней**"
   ]
  },
  {
   "cell_type": "code",
   "execution_count": 115,
   "id": "fd07c863",
   "metadata": {},
   "outputs": [],
   "source": [
    "ads_full['date_since'] = ads_full.date - ads_full.create_date"
   ]
  },
  {
   "cell_type": "code",
   "execution_count": 124,
   "id": "569b6926",
   "metadata": {},
   "outputs": [],
   "source": [
    "#Считаем число клиентов, которые совершили целевое действие (создали рекламу)\n",
    "a = ads_full.groupby('client_union_id', as_index=False)\\\n",
    "    .agg({'date_since' : 'count'})\\\n",
    "    .shape[0]\n",
    "\n",
    "#Считаем общее число клиентов \n",
    "b = ads_clients_data.groupby('client_union_id').agg({'create_date':'count'}).shape[0]"
   ]
  },
  {
   "cell_type": "code",
   "execution_count": 125,
   "id": "e048d45e",
   "metadata": {},
   "outputs": [],
   "source": [
    "c = round((a/b*100),2) #считаем конверсию"
   ]
  },
  {
   "cell_type": "markdown",
   "id": "bff323b5",
   "metadata": {},
   "source": [
    "**Вывод**"
   ]
  },
  {
   "cell_type": "code",
   "execution_count": 126,
   "id": "c59a66c1",
   "metadata": {},
   "outputs": [
    {
     "name": "stdout",
     "output_type": "stream",
     "text": [
      "Конверсия из создания рекламного кабинета в запуск первой рекламы: 0.69\n"
     ]
    }
   ],
   "source": [
    "print('Конверсия из создания рекламного кабинета в запуск первой рекламы:',c)"
   ]
  },
  {
   "cell_type": "markdown",
   "id": "b8bb2896",
   "metadata": {},
   "source": [
    "**7. Посмотрим, сколько уникальных клиентов запустили свое первое объявление в различные промежутки дней**"
   ]
  },
  {
   "cell_type": "code",
   "execution_count": 129,
   "id": "341f235e",
   "metadata": {},
   "outputs": [],
   "source": [
    "sd = ads_full.groupby('client_union_id', as_index=False)\\\n",
    "    .agg({'date_since' : 'min'})\n",
    "sd['date_since1'] = pd.cut(sd.date_since, bins = pd.to_timedelta(['0d', '30d', '90d', '180d', '365d']))"
   ]
  },
  {
   "cell_type": "markdown",
   "id": "4a2597b6",
   "metadata": {},
   "source": [
    "**Промежутки**\n",
    "1. 0-30 дней\n",
    "2. 30-90 дней\n",
    "3. 90-180 дней\n",
    "4. 180-365 дней"
   ]
  },
  {
   "cell_type": "code",
   "execution_count": 130,
   "id": "761308d6",
   "metadata": {},
   "outputs": [
    {
     "data": {
      "text/html": [
       "<div>\n",
       "<style scoped>\n",
       "    .dataframe tbody tr th:only-of-type {\n",
       "        vertical-align: middle;\n",
       "    }\n",
       "\n",
       "    .dataframe tbody tr th {\n",
       "        vertical-align: top;\n",
       "    }\n",
       "\n",
       "    .dataframe thead th {\n",
       "        text-align: right;\n",
       "    }\n",
       "</style>\n",
       "<table border=\"1\" class=\"dataframe\">\n",
       "  <thead>\n",
       "    <tr style=\"text-align: right;\">\n",
       "      <th></th>\n",
       "      <th>client_union_id</th>\n",
       "    </tr>\n",
       "    <tr>\n",
       "      <th>date_since1</th>\n",
       "      <th></th>\n",
       "    </tr>\n",
       "  </thead>\n",
       "  <tbody>\n",
       "    <tr>\n",
       "      <th>(0 days 00:00:00, 30 days 00:00:00]</th>\n",
       "      <td>11</td>\n",
       "    </tr>\n",
       "    <tr>\n",
       "      <th>(30 days 00:00:00, 90 days 00:00:00]</th>\n",
       "      <td>263</td>\n",
       "    </tr>\n",
       "    <tr>\n",
       "      <th>(90 days 00:00:00, 180 days 00:00:00]</th>\n",
       "      <td>396</td>\n",
       "    </tr>\n",
       "    <tr>\n",
       "      <th>(180 days 00:00:00, 365 days 00:00:00]</th>\n",
       "      <td>168</td>\n",
       "    </tr>\n",
       "  </tbody>\n",
       "</table>\n",
       "</div>"
      ],
      "text/plain": [
       "                                        client_union_id\n",
       "date_since1                                            \n",
       "(0 days 00:00:00, 30 days 00:00:00]                  11\n",
       "(30 days 00:00:00, 90 days 00:00:00]                263\n",
       "(90 days 00:00:00, 180 days 00:00:00]               396\n",
       "(180 days 00:00:00, 365 days 00:00:00]              168"
      ]
     },
     "execution_count": 130,
     "metadata": {},
     "output_type": "execute_result"
    }
   ],
   "source": [
    "sd.groupby(['date_since1']).agg({'client_union_id':'count'})"
   ]
  }
 ],
 "metadata": {
  "kernelspec": {
   "display_name": "Python 3 (ipykernel)",
   "language": "python",
   "name": "python3"
  },
  "language_info": {
   "codemirror_mode": {
    "name": "ipython",
    "version": 3
   },
   "file_extension": ".py",
   "mimetype": "text/x-python",
   "name": "python",
   "nbconvert_exporter": "python",
   "pygments_lexer": "ipython3",
   "version": "3.9.7"
  }
 },
 "nbformat": 4,
 "nbformat_minor": 5
}
