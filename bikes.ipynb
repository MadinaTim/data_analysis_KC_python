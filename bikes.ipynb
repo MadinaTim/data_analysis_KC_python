{
 "cells": [
  {
   "cell_type": "code",
   "execution_count": 1,
   "id": "2594fd99",
   "metadata": {},
   "outputs": [],
   "source": [
    "import pandas as pd"
   ]
  },
  {
   "cell_type": "markdown",
   "id": "9f5f4925",
   "metadata": {},
   "source": [
    "# Анализ данных об аренде велосипедов в Чикаго"
   ]
  },
  {
   "cell_type": "code",
   "execution_count": 10,
   "id": "162008a4",
   "metadata": {},
   "outputs": [],
   "source": [
    "bikes_q1 = pd.read_csv(bikes_q1, parse_dates=['start_time','end_time'] )"
   ]
  },
  {
   "cell_type": "markdown",
   "id": "10855776",
   "metadata": {},
   "source": [
    "Для начала, возьмем данные только за Q1 <br>\n",
    "\n",
    "\n",
    "### Структура данных\n",
    "`trip_id` — id поездки <br>\n",
    "`start_time` — Дата и время начала поездки<br>\n",
    "`end_time` — Дата и время конца поездки<br>\n",
    "`bikeid` — id велосипеда<br>\n",
    "`tripduration` — продолжительность поездки в минутах<br>\n",
    "`from_station_id` — id станции начала поездки<br>\n",
    "`from_station_name` — название пункта отправления<br>\n",
    "`to_station_id` — id пункта прибытия<br>\n",
    "`to_station_name` — название пункта прибытия<br>\n",
    "`usertype` — тип пользователя<br>\n",
    "`gender` — пол (если subscriber)<br>\n",
    "`birthyear` — год рождения (если subscriber)<br>"
   ]
  },
  {
   "cell_type": "code",
   "execution_count": 3,
   "id": "15c1ea06",
   "metadata": {},
   "outputs": [
    {
     "data": {
      "text/html": [
       "<div>\n",
       "<style scoped>\n",
       "    .dataframe tbody tr th:only-of-type {\n",
       "        vertical-align: middle;\n",
       "    }\n",
       "\n",
       "    .dataframe tbody tr th {\n",
       "        vertical-align: top;\n",
       "    }\n",
       "\n",
       "    .dataframe thead th {\n",
       "        text-align: right;\n",
       "    }\n",
       "</style>\n",
       "<table border=\"1\" class=\"dataframe\">\n",
       "  <thead>\n",
       "    <tr style=\"text-align: right;\">\n",
       "      <th></th>\n",
       "      <th>trip_id</th>\n",
       "      <th>start_time</th>\n",
       "      <th>end_time</th>\n",
       "      <th>bikeid</th>\n",
       "      <th>tripduration</th>\n",
       "      <th>from_station_id</th>\n",
       "      <th>from_station_name</th>\n",
       "      <th>to_station_id</th>\n",
       "      <th>to_station_name</th>\n",
       "      <th>usertype</th>\n",
       "      <th>gender</th>\n",
       "      <th>birthyear</th>\n",
       "    </tr>\n",
       "  </thead>\n",
       "  <tbody>\n",
       "    <tr>\n",
       "      <th>0</th>\n",
       "      <td>17617135</td>\n",
       "      <td>2018-01-22 20:04:31</td>\n",
       "      <td>2018-01-22 20:11:53</td>\n",
       "      <td>1131</td>\n",
       "      <td>442.0</td>\n",
       "      <td>471</td>\n",
       "      <td>Francisco Ave &amp; Foster Ave</td>\n",
       "      <td>468</td>\n",
       "      <td>Budlong Woods Library</td>\n",
       "      <td>Subscriber</td>\n",
       "      <td>Female</td>\n",
       "      <td>1949.0</td>\n",
       "    </tr>\n",
       "    <tr>\n",
       "      <th>1</th>\n",
       "      <td>17897619</td>\n",
       "      <td>2018-03-16 19:47:59</td>\n",
       "      <td>2018-03-16 20:04:00</td>\n",
       "      <td>6146</td>\n",
       "      <td>961.0</td>\n",
       "      <td>296</td>\n",
       "      <td>Broadway &amp; Belmont Ave</td>\n",
       "      <td>253</td>\n",
       "      <td>Winthrop Ave &amp; Lawrence Ave</td>\n",
       "      <td>Subscriber</td>\n",
       "      <td>Male</td>\n",
       "      <td>1988.0</td>\n",
       "    </tr>\n",
       "    <tr>\n",
       "      <th>2</th>\n",
       "      <td>17881307</td>\n",
       "      <td>2018-03-14 18:49:20</td>\n",
       "      <td>2018-03-14 18:54:38</td>\n",
       "      <td>3847</td>\n",
       "      <td>318.0</td>\n",
       "      <td>260</td>\n",
       "      <td>Kedzie Ave &amp; Milwaukee Ave</td>\n",
       "      <td>503</td>\n",
       "      <td>Drake Ave &amp; Fullerton Ave</td>\n",
       "      <td>Subscriber</td>\n",
       "      <td>Male</td>\n",
       "      <td>1987.0</td>\n",
       "    </tr>\n",
       "    <tr>\n",
       "      <th>3</th>\n",
       "      <td>17881130</td>\n",
       "      <td>2018-03-14 18:33:48</td>\n",
       "      <td>2018-03-14 19:07:40</td>\n",
       "      <td>1483</td>\n",
       "      <td>2,032.0</td>\n",
       "      <td>199</td>\n",
       "      <td>Wabash Ave &amp; Grand Ave</td>\n",
       "      <td>199</td>\n",
       "      <td>Wabash Ave &amp; Grand Ave</td>\n",
       "      <td>Subscriber</td>\n",
       "      <td>Male</td>\n",
       "      <td>1990.0</td>\n",
       "    </tr>\n",
       "    <tr>\n",
       "      <th>4</th>\n",
       "      <td>17686289</td>\n",
       "      <td>2018-02-05 17:39:14</td>\n",
       "      <td>2018-02-05 17:46:13</td>\n",
       "      <td>6391</td>\n",
       "      <td>419.0</td>\n",
       "      <td>596</td>\n",
       "      <td>Benson Ave &amp; Church St</td>\n",
       "      <td>605</td>\n",
       "      <td>University Library (NU)</td>\n",
       "      <td>Subscriber</td>\n",
       "      <td>Male</td>\n",
       "      <td>1992.0</td>\n",
       "    </tr>\n",
       "  </tbody>\n",
       "</table>\n",
       "</div>"
      ],
      "text/plain": [
       "    trip_id           start_time             end_time  bikeid tripduration  \\\n",
       "0  17617135  2018-01-22 20:04:31  2018-01-22 20:11:53    1131        442.0   \n",
       "1  17897619  2018-03-16 19:47:59  2018-03-16 20:04:00    6146        961.0   \n",
       "2  17881307  2018-03-14 18:49:20  2018-03-14 18:54:38    3847        318.0   \n",
       "3  17881130  2018-03-14 18:33:48  2018-03-14 19:07:40    1483      2,032.0   \n",
       "4  17686289  2018-02-05 17:39:14  2018-02-05 17:46:13    6391        419.0   \n",
       "\n",
       "   from_station_id           from_station_name  to_station_id  \\\n",
       "0              471  Francisco Ave & Foster Ave            468   \n",
       "1              296      Broadway & Belmont Ave            253   \n",
       "2              260  Kedzie Ave & Milwaukee Ave            503   \n",
       "3              199      Wabash Ave & Grand Ave            199   \n",
       "4              596      Benson Ave & Church St            605   \n",
       "\n",
       "               to_station_name    usertype  gender  birthyear  \n",
       "0        Budlong Woods Library  Subscriber  Female     1949.0  \n",
       "1  Winthrop Ave & Lawrence Ave  Subscriber    Male     1988.0  \n",
       "2    Drake Ave & Fullerton Ave  Subscriber    Male     1987.0  \n",
       "3       Wabash Ave & Grand Ave  Subscriber    Male     1990.0  \n",
       "4      University Library (NU)  Subscriber    Male     1992.0  "
      ]
     },
     "execution_count": 3,
     "metadata": {},
     "output_type": "execute_result"
    }
   ],
   "source": [
    "bikes_q1.head()"
   ]
  },
  {
   "cell_type": "code",
   "execution_count": 4,
   "id": "eeb03c53",
   "metadata": {},
   "outputs": [
    {
     "name": "stdout",
     "output_type": "stream",
     "text": [
      "<class 'pandas.core.frame.DataFrame'>\n",
      "RangeIndex: 174215 entries, 0 to 174214\n",
      "Data columns (total 12 columns):\n",
      " #   Column             Non-Null Count   Dtype  \n",
      "---  ------             --------------   -----  \n",
      " 0   trip_id            174215 non-null  int64  \n",
      " 1   start_time         174215 non-null  object \n",
      " 2   end_time           174215 non-null  object \n",
      " 3   bikeid             174215 non-null  int64  \n",
      " 4   tripduration       174215 non-null  object \n",
      " 5   from_station_id    174215 non-null  int64  \n",
      " 6   from_station_name  174215 non-null  object \n",
      " 7   to_station_id      174215 non-null  int64  \n",
      " 8   to_station_name    174215 non-null  object \n",
      " 9   usertype           174215 non-null  object \n",
      " 10  gender             164161 non-null  object \n",
      " 11  birthyear          164236 non-null  float64\n",
      "dtypes: float64(1), int64(4), object(7)\n",
      "memory usage: 15.9+ MB\n"
     ]
    }
   ],
   "source": [
    "bikes_q1.info()"
   ]
  },
  {
   "cell_type": "code",
   "execution_count": 6,
   "id": "6e544fd5",
   "metadata": {},
   "outputs": [
    {
     "data": {
      "text/plain": [
       "0"
      ]
     },
     "execution_count": 6,
     "metadata": {},
     "output_type": "execute_result"
    }
   ],
   "source": [
    "bikes_q1.duplicated().sum()"
   ]
  },
  {
   "cell_type": "code",
   "execution_count": 8,
   "id": "5616c9c5",
   "metadata": {},
   "outputs": [
    {
     "data": {
      "text/plain": [
       "trip_id                int64\n",
       "start_time            object\n",
       "end_time              object\n",
       "bikeid                 int64\n",
       "tripduration          object\n",
       "from_station_id        int64\n",
       "from_station_name     object\n",
       "to_station_id          int64\n",
       "to_station_name       object\n",
       "usertype              object\n",
       "gender                object\n",
       "birthyear            float64\n",
       "dtype: object"
      ]
     },
     "execution_count": 8,
     "metadata": {},
     "output_type": "execute_result"
    }
   ],
   "source": [
    "bikes_q1.dtypes\n",
    "# так как у столбцов с датой стоит тип object, приведем к формату DateTime при чтении csv файла"
   ]
  },
  {
   "cell_type": "markdown",
   "id": "4ce2e844",
   "metadata": {},
   "source": [
    "#### Перед тем как сделать .resample(), немного подготовим данные. Поместим колонку start_time в качестве индексов и сохраните изменения в исходный датасет."
   ]
  },
  {
   "cell_type": "code",
   "execution_count": 12,
   "id": "3bd17234",
   "metadata": {},
   "outputs": [],
   "source": [
    "bikes_q1 = bikes_q1.set_index('start_time')"
   ]
  },
  {
   "cell_type": "code",
   "execution_count": 14,
   "id": "25caf98c",
   "metadata": {},
   "outputs": [
    {
     "data": {
      "text/html": [
       "<div>\n",
       "<style scoped>\n",
       "    .dataframe tbody tr th:only-of-type {\n",
       "        vertical-align: middle;\n",
       "    }\n",
       "\n",
       "    .dataframe tbody tr th {\n",
       "        vertical-align: top;\n",
       "    }\n",
       "\n",
       "    .dataframe thead th {\n",
       "        text-align: right;\n",
       "    }\n",
       "</style>\n",
       "<table border=\"1\" class=\"dataframe\">\n",
       "  <thead>\n",
       "    <tr style=\"text-align: right;\">\n",
       "      <th></th>\n",
       "      <th>trip_id</th>\n",
       "      <th>end_time</th>\n",
       "      <th>bikeid</th>\n",
       "      <th>tripduration</th>\n",
       "      <th>from_station_id</th>\n",
       "      <th>from_station_name</th>\n",
       "      <th>to_station_id</th>\n",
       "      <th>to_station_name</th>\n",
       "      <th>usertype</th>\n",
       "      <th>gender</th>\n",
       "      <th>birthyear</th>\n",
       "    </tr>\n",
       "    <tr>\n",
       "      <th>start_time</th>\n",
       "      <th></th>\n",
       "      <th></th>\n",
       "      <th></th>\n",
       "      <th></th>\n",
       "      <th></th>\n",
       "      <th></th>\n",
       "      <th></th>\n",
       "      <th></th>\n",
       "      <th></th>\n",
       "      <th></th>\n",
       "      <th></th>\n",
       "    </tr>\n",
       "  </thead>\n",
       "  <tbody>\n",
       "    <tr>\n",
       "      <th>2018-01-22 20:04:31</th>\n",
       "      <td>17617135</td>\n",
       "      <td>2018-01-22 20:11:53</td>\n",
       "      <td>1131</td>\n",
       "      <td>442.0</td>\n",
       "      <td>471</td>\n",
       "      <td>Francisco Ave &amp; Foster Ave</td>\n",
       "      <td>468</td>\n",
       "      <td>Budlong Woods Library</td>\n",
       "      <td>Subscriber</td>\n",
       "      <td>Female</td>\n",
       "      <td>1949.0</td>\n",
       "    </tr>\n",
       "    <tr>\n",
       "      <th>2018-03-16 19:47:59</th>\n",
       "      <td>17897619</td>\n",
       "      <td>2018-03-16 20:04:00</td>\n",
       "      <td>6146</td>\n",
       "      <td>961.0</td>\n",
       "      <td>296</td>\n",
       "      <td>Broadway &amp; Belmont Ave</td>\n",
       "      <td>253</td>\n",
       "      <td>Winthrop Ave &amp; Lawrence Ave</td>\n",
       "      <td>Subscriber</td>\n",
       "      <td>Male</td>\n",
       "      <td>1988.0</td>\n",
       "    </tr>\n",
       "    <tr>\n",
       "      <th>2018-03-14 18:49:20</th>\n",
       "      <td>17881307</td>\n",
       "      <td>2018-03-14 18:54:38</td>\n",
       "      <td>3847</td>\n",
       "      <td>318.0</td>\n",
       "      <td>260</td>\n",
       "      <td>Kedzie Ave &amp; Milwaukee Ave</td>\n",
       "      <td>503</td>\n",
       "      <td>Drake Ave &amp; Fullerton Ave</td>\n",
       "      <td>Subscriber</td>\n",
       "      <td>Male</td>\n",
       "      <td>1987.0</td>\n",
       "    </tr>\n",
       "    <tr>\n",
       "      <th>2018-03-14 18:33:48</th>\n",
       "      <td>17881130</td>\n",
       "      <td>2018-03-14 19:07:40</td>\n",
       "      <td>1483</td>\n",
       "      <td>2,032.0</td>\n",
       "      <td>199</td>\n",
       "      <td>Wabash Ave &amp; Grand Ave</td>\n",
       "      <td>199</td>\n",
       "      <td>Wabash Ave &amp; Grand Ave</td>\n",
       "      <td>Subscriber</td>\n",
       "      <td>Male</td>\n",
       "      <td>1990.0</td>\n",
       "    </tr>\n",
       "    <tr>\n",
       "      <th>2018-02-05 17:39:14</th>\n",
       "      <td>17686289</td>\n",
       "      <td>2018-02-05 17:46:13</td>\n",
       "      <td>6391</td>\n",
       "      <td>419.0</td>\n",
       "      <td>596</td>\n",
       "      <td>Benson Ave &amp; Church St</td>\n",
       "      <td>605</td>\n",
       "      <td>University Library (NU)</td>\n",
       "      <td>Subscriber</td>\n",
       "      <td>Male</td>\n",
       "      <td>1992.0</td>\n",
       "    </tr>\n",
       "  </tbody>\n",
       "</table>\n",
       "</div>"
      ],
      "text/plain": [
       "                      trip_id            end_time  bikeid tripduration  \\\n",
       "start_time                                                               \n",
       "2018-01-22 20:04:31  17617135 2018-01-22 20:11:53    1131        442.0   \n",
       "2018-03-16 19:47:59  17897619 2018-03-16 20:04:00    6146        961.0   \n",
       "2018-03-14 18:49:20  17881307 2018-03-14 18:54:38    3847        318.0   \n",
       "2018-03-14 18:33:48  17881130 2018-03-14 19:07:40    1483      2,032.0   \n",
       "2018-02-05 17:39:14  17686289 2018-02-05 17:46:13    6391        419.0   \n",
       "\n",
       "                     from_station_id           from_station_name  \\\n",
       "start_time                                                         \n",
       "2018-01-22 20:04:31              471  Francisco Ave & Foster Ave   \n",
       "2018-03-16 19:47:59              296      Broadway & Belmont Ave   \n",
       "2018-03-14 18:49:20              260  Kedzie Ave & Milwaukee Ave   \n",
       "2018-03-14 18:33:48              199      Wabash Ave & Grand Ave   \n",
       "2018-02-05 17:39:14              596      Benson Ave & Church St   \n",
       "\n",
       "                     to_station_id              to_station_name    usertype  \\\n",
       "start_time                                                                    \n",
       "2018-01-22 20:04:31            468        Budlong Woods Library  Subscriber   \n",
       "2018-03-16 19:47:59            253  Winthrop Ave & Lawrence Ave  Subscriber   \n",
       "2018-03-14 18:49:20            503    Drake Ave & Fullerton Ave  Subscriber   \n",
       "2018-03-14 18:33:48            199       Wabash Ave & Grand Ave  Subscriber   \n",
       "2018-02-05 17:39:14            605      University Library (NU)  Subscriber   \n",
       "\n",
       "                     gender  birthyear  \n",
       "start_time                              \n",
       "2018-01-22 20:04:31  Female     1949.0  \n",
       "2018-03-16 19:47:59    Male     1988.0  \n",
       "2018-03-14 18:49:20    Male     1987.0  \n",
       "2018-03-14 18:33:48    Male     1990.0  \n",
       "2018-02-05 17:39:14    Male     1992.0  "
      ]
     },
     "execution_count": 14,
     "metadata": {},
     "output_type": "execute_result"
    }
   ],
   "source": [
    "bikes_q1.head()"
   ]
  },
  {
   "cell_type": "markdown",
   "id": "4aaf1908",
   "metadata": {},
   "source": [
    "#### В данных имеется как дата аренды, так и её точное время начала и окончания с точностью до секунд. Применим метод pd.resample() и агрегируем данные по дням. Посмотрим максимальное число аренд за день"
   ]
  },
  {
   "cell_type": "code",
   "execution_count": 23,
   "id": "88e27611",
   "metadata": {},
   "outputs": [
    {
     "data": {
      "text/plain": [
       "start_time\n",
       "2018-02-27    4196\n",
       "2018-03-28    3640\n",
       "2018-02-26    3422\n",
       "2018-02-28    3412\n",
       "2018-03-15    3245\n",
       "              ... \n",
       "2018-02-10     364\n",
       "2018-02-11     331\n",
       "2018-02-09     300\n",
       "2018-02-04     279\n",
       "2018-01-01     191\n",
       "Name: trip_id, Length: 90, dtype: int64"
      ]
     },
     "execution_count": 23,
     "metadata": {},
     "output_type": "execute_result"
    }
   ],
   "source": [
    "bikes_q1.resample('1d').trip_id.count().sort_values(ascending=False)"
   ]
  },
  {
   "cell_type": "markdown",
   "id": "c4f717fa",
   "metadata": {},
   "source": [
    "**Вывод:** максимально число аренд за день  было 27 февраля и составляло 4196"
   ]
  },
  {
   "cell_type": "code",
   "execution_count": null,
   "id": "023bc260",
   "metadata": {},
   "outputs": [],
   "source": []
  }
 ],
 "metadata": {
  "kernelspec": {
   "display_name": "Python 3 (ipykernel)",
   "language": "python",
   "name": "python3"
  },
  "language_info": {
   "codemirror_mode": {
    "name": "ipython",
    "version": 3
   },
   "file_extension": ".py",
   "mimetype": "text/x-python",
   "name": "python",
   "nbconvert_exporter": "python",
   "pygments_lexer": "ipython3",
   "version": "3.9.7"
  }
 },
 "nbformat": 4,
 "nbformat_minor": 5
}
